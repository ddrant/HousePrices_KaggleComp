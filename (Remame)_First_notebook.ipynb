{
 "cells": [
  {
   "cell_type": "markdown",
   "metadata": {},
   "source": [
    "***Python Version:*** **3.11.8**  <BR>\n",
    "# **House Prices - Advanced Regression Techniques**\n",
    "## **Competition Description:**  \n",
    "Ask a home buyer to describe their dream house, and they probably won't begin with the height of the basement ceiling or the proximity to an east-west railroad. But this playground competition's dataset proves that much more influences price negotiations than the number of bedrooms or a white-picket fence.\n",
    "\n",
    "With 79 explanatory variables describing (almost) every aspect of residential homes in Ames, Iowa, this competition challenges you to predict the final price of each home.  \n",
    "\n",
    "\n",
    "## **Evaluation**\n",
    "### **Goal**\n",
    "It is your job to predict the sales price for each house. For each Id in the test set, you must predict the value of the SalePrice variable. \n",
    "\n",
    "### **Metric**\n",
    "Submissions are evaluated on Root-Mean-Squared-Error (RMSE) between the logarithm of the predicted value and the logarithm of the observed sales price. (Taking logs means that errors in predicting expensive houses and cheap houses will affect the result equally.)\n",
    "\n",
    "### **Submission File Format**\n",
    "The file should contain a header and have the following format:\n"
   ]
  },
  {
   "cell_type": "markdown",
   "metadata": {},
   "source": [
    "Id,SalePrice  \n",
    "1461,169000.1  \n",
    "1462,187724.1233  \n",
    "1463,175221  \n",
    "etc.  "
   ]
  },
  {
   "cell_type": "markdown",
   "metadata": {},
   "source": [
    "<BR><BR>\n",
    "# **Rough Plan:**\n",
    "\n",
    "Although I am aware of stacking and it may provide a better model result if I stack multiple models together, for this project I am mainly going to using the information and models available to learn on Kaggle in the [Kaggle Learn](https://www.kaggle.com/learn) section.  <BR><BR>\n",
    "The model we are going to use for this project is **XGBoost** or Extreme Gradient Boosting. As Kaggle Learn does not teach all the models available, this seems to be the obvious choice as to what would perform best. We could try out other models and compare, but for this notebook we will focus on correct feature selection, creative feature engineering and hyperparameter tuning.\n",
    "\n",
    "### **Rough workflow for now:**\n",
    "1. Domain/Feature understanding + Plan  \n",
    "2. Initial EDA (nulls, data types)  - 2 to 4 could be as one\n",
    "3. Handle missing values  \n",
    "4. Deeper EDA (plots, feature interactions)  \n",
    "5. Basic encoding  \n",
    "6. Build base XGBoost model (log SalePrice)  \n",
    "7. Feature engineering + iterative testing (what feature engineering?, target encoding, PCA values, PCA as feature discovery  \n",
    "&nbsp;&nbsp; rememeber to also add any encodings/changes to the test set (mapping encodings, etc)\n",
    "8. Explainability (SHAP, feature importance)  \n",
    "9. Refine + resubmit  "
   ]
  },
  {
   "cell_type": "markdown",
   "metadata": {},
   "source": [
    "<BR><BR>\n",
    "# **1. Domain Knowledge, Feature review and transformation plan**"
   ]
  },
  {
   "cell_type": "markdown",
   "metadata": {},
   "source": [
    "First we will start by looking through the [data_description.txt](https://www.kaggle.com/competitions/house-prices-advanced-regression-techniques/data?select=data_description.txt) file from the competition page feature by feature.<BR>\n",
    "  \n",
    "Some of the things that initially come to mind to explore are:\n",
    "1. Domain understanding of each feature and its description\n",
    "2. Domain understanding of each feature value (especially important for categorical features)\n",
    "\n",
    "(review these tomorrow)\n",
    "3. Data Types and number of missing values\n",
    "4. Does this have an obvious encoding order (for categoricals)\n",
    "5. Can this feature fit into any groups of similar features?\n",
    "6. What other features may be effected by the value of this feature?"
   ]
  },
  {
   "cell_type": "markdown",
   "metadata": {},
   "source": []
  }
 ],
 "metadata": {
  "kernelspec": {
   "display_name": "Python 3",
   "language": "python",
   "name": "python3"
  },
  "language_info": {
   "name": "python",
   "version": "3.11.8"
  }
 },
 "nbformat": 4,
 "nbformat_minor": 2
}
